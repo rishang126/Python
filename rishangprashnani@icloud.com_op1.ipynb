{
 "cells": [
  {
   "cell_type": "markdown",
   "metadata": {},
   "source": [
    " Question-1: Write a function that inputs a number and prints the multiplication table of that number."
   ]
  },
  {
   "cell_type": "code",
   "execution_count": 14,
   "metadata": {},
   "outputs": [
    {
     "name": "stdout",
     "output_type": "stream",
     "text": [
      "write the number: 21\n",
      "Multiplication table of 21\n",
      "21 * 1 = 21\n",
      "21 * 2 = 42\n",
      "21 * 3 = 63\n",
      "21 * 4 = 84\n",
      "21 * 5 = 105\n",
      "21 * 6 = 126\n",
      "21 * 7 = 147\n",
      "21 * 8 = 168\n",
      "21 * 9 = 189\n",
      "21 * 10 = 210\n"
     ]
    }
   ],
   "source": [
    "def table(a):\n",
    "    \"\"\"\n",
    "    Multiplication Table of the input number\n",
    "    \"\"\"\n",
    "    for i in range(1,11):\n",
    "        c = i*a\n",
    "        print(a,\"*\",i,\"=\",c)\n",
    "        \n",
    "m=input(\"write the number: \")\n",
    "print(\"Multiplication table of\",m)\n",
    "table(int(m))\n",
    "\n",
    "\n",
    "\n",
    "\n",
    "\n",
    "\n"
   ]
  },
  {
   "cell_type": "markdown",
   "metadata": {},
   "source": [
    " Question-2: Write a program to print twin primes less than 1000. If two consecutive odd numbers both prime then they are \n",
    "   known as twin primes"
   ]
  },
  {
   "cell_type": "code",
   "execution_count": 15,
   "metadata": {
    "scrolled": true
   },
   "outputs": [
    {
     "name": "stdout",
     "output_type": "stream",
     "text": [
      "Twin primes below 1000 are given below:\n",
      "3 5\n",
      "5 7\n",
      "11 13\n",
      "17 19\n",
      "29 31\n",
      "41 43\n",
      "59 61\n",
      "71 73\n",
      "101 103\n",
      "107 109\n",
      "137 139\n",
      "149 151\n",
      "179 181\n",
      "191 193\n",
      "197 199\n",
      "227 229\n",
      "239 241\n",
      "269 271\n",
      "281 283\n",
      "311 313\n",
      "347 349\n",
      "419 421\n",
      "431 433\n",
      "461 463\n",
      "521 523\n",
      "569 571\n",
      "599 601\n",
      "617 619\n",
      "641 643\n",
      "659 661\n",
      "809 811\n",
      "821 823\n",
      "827 829\n",
      "857 859\n",
      "881 883\n"
     ]
    }
   ],
   "source": [
    "print(\"Twin primes below 1000 are given below:\")\n",
    "for num in range (3,1000):\n",
    "        isDiv = False;\n",
    "        \n",
    "        for dig in range(2,num):\n",
    "            if num%dig == 0:\n",
    "                isDiv = True;\n",
    "\n",
    "        if not isDiv:                          \n",
    "            num_2 = num+2                #checking the consecutive odd number to be prime\n",
    "            for dig_2 in range(2,num_2):\n",
    "                if num_2%dig_2 == 0:\n",
    "                    isDiv = True;\n",
    "                    \n",
    "            if not isDiv:\n",
    "                print(num, num_2)     #printing only when the consecutive number is prime\n",
    "            \n",
    "            \n",
    "        \n",
    "   \n",
    "            "
   ]
  },
  {
   "cell_type": "markdown",
   "metadata": {},
   "source": [
    "Question-3: Write a program to find out the prime factors of a number. Example: Prime factor of 56- 2, 2, 2, 7"
   ]
  },
  {
   "cell_type": "code",
   "execution_count": 16,
   "metadata": {},
   "outputs": [
    {
     "name": "stdout",
     "output_type": "stream",
     "text": [
      "Write the number: 76\n",
      "prime factorization of 76\n",
      "[2, 2, 19]\n"
     ]
    }
   ],
   "source": [
    "pfactors = []\n",
    "def prime_factor(n):\n",
    "    for i in range(2,int(n+1)):        \n",
    "        if (n%i==0):\n",
    "            pfactors.append(i)\n",
    "            n = n/i\n",
    "            break\n",
    "            \n",
    "    if n>1:                     #using recursive function\n",
    "        prime_factor(n)\n",
    "    else:\n",
    "        print(pfactors)\n",
    "    \n",
    "m = int(input(\"Write the number: \")) \n",
    "print(\"prime factorization of\", m)\n",
    "prime_factor(m)\n",
    "\n",
    "\n",
    "\n"
   ]
  },
  {
   "cell_type": "markdown",
   "metadata": {},
   "source": [
    "Question-4: Write a program to implement these formulae of permutations and combinations.\n",
    "Number of permutations of n objects taken r at a time:\n",
    "p(n,r) = n! / (n-r)!. \n",
    "Number of combinations of n objects taken r at a time: c(n,r) = n! / (r!*(n-r)!) = p(n,r) / r!"
   ]
  },
  {
   "cell_type": "code",
   "execution_count": 17,
   "metadata": {},
   "outputs": [
    {
     "name": "stdout",
     "output_type": "stream",
     "text": [
      "Write number of objects: 10\n",
      "Number of times the object is taken? 4\n",
      "*_*_*_*_*_*_*_*_*\n",
      "Number of permutations of 10 objects taken 4 at a time is: 5040.0\n",
      "Number of combinations of 10 objects taken 4 at a time is: 210.0\n",
      "*_*_*_*_*_*_*_*_*\n"
     ]
    }
   ],
   "source": [
    "def factorial(n):\n",
    "    return 1 if n==1 else (n*factorial(n-1))\n",
    "\n",
    "n = int(input(\"Write number of objects: \"))\n",
    "r = int(input(\"Number of times the object is taken? \"))\n",
    "\n",
    "per = factorial(n)/factorial(n-r)\n",
    "comb = per/factorial(r)\n",
    "print(\"*_*_*_*_*_*_*_*_*\")\n",
    "print(\"Number of permutations of {} objects taken {} at a time is: {}\".format(n, r, per))\n",
    "print(\"Number of combinations of {} objects taken {} at a time is: {}\".format(n, r, comb))\n",
    "print(\"*_*_*_*_*_*_*_*_*\")"
   ]
  },
  {
   "cell_type": "markdown",
   "metadata": {},
   "source": [
    "Question-5:  Write a function that converts decimal number to a binary number."
   ]
  },
  {
   "cell_type": "code",
   "execution_count": 18,
   "metadata": {},
   "outputs": [
    {
     "name": "stdout",
     "output_type": "stream",
     "text": [
      "Write the decimal number: 183\n",
      "binary form: 10110111"
     ]
    }
   ],
   "source": [
    "n= int(input(\"Write the decimal number: \"))\n",
    "\n",
    "lst = []\n",
    "\n",
    "while n>0:\n",
    "    lst.append(n%2)\n",
    "    n= int(n/2)\n",
    "\n",
    "lst.reverse()\n",
    "print(\"binary form:\",end=\" \")\n",
    "for i in lst:\n",
    "    print(i,end=\"\")"
   ]
  },
  {
   "cell_type": "markdown",
   "metadata": {},
   "source": [
    "Question-6: Write a function cubesum() that accepts an integer and returns the sum of the cubes of the individual digits of that  number. Use this function to make functions PrintArmstrong() and isArmstrong() to print Armstrong numbers and to find out whether is an Armstrong number."
   ]
  },
  {
   "cell_type": "code",
   "execution_count": 19,
   "metadata": {},
   "outputs": [
    {
     "name": "stdout",
     "output_type": "stream",
     "text": [
      "Write a number to print armstrong number less than it: 400\n",
      "0\n",
      "1\n",
      "153\n",
      "370\n",
      "371\n",
      "\n",
      "\n",
      "write a number to check if it is an Armstrong number: 371\n"
     ]
    },
    {
     "data": {
      "text/plain": [
       "True"
      ]
     },
     "execution_count": 19,
     "metadata": {},
     "output_type": "execute_result"
    }
   ],
   "source": [
    "def cubesum(num):\n",
    "    st = str(num)\n",
    "    lst=[]\n",
    "    for i in st:\n",
    "        s = int(i)**3\n",
    "        lst.append(s)\n",
    "    return (sum(lst))  \n",
    "\n",
    "def PrintArmstrong(n):\n",
    "    for x in range(n):\n",
    "        if (cubesum(x)==x):\n",
    "            print(x)    \n",
    "\n",
    "def isArmstrong(m):\n",
    "    return True if (cubesum(m)==m) else False\n",
    "\n",
    "n = int(input(\"Write a number to print armstrong number less than it: \"))\n",
    "PrintArmstrong(n)\n",
    "print('\\n')\n",
    "m = int(input(\"write a number to check if it is an Armstrong number: \"))\n",
    "isArmstrong(m)\n"
   ]
  },
  {
   "cell_type": "markdown",
   "metadata": {},
   "source": [
    "Question-7: Write a function prodDigits() that inputs a number and returns the product of digits of that number."
   ]
  },
  {
   "cell_type": "code",
   "execution_count": 5,
   "metadata": {},
   "outputs": [
    {
     "name": "stdout",
     "output_type": "stream",
     "text": [
      "Type the number: 56\n"
     ]
    },
    {
     "data": {
      "text/plain": [
       "30"
      ]
     },
     "execution_count": 5,
     "metadata": {},
     "output_type": "execute_result"
    }
   ],
   "source": [
    "def prodDigits(num):\n",
    "    product = 1;\n",
    "    for i in num:\n",
    "        i=int(i)\n",
    "        product*=i\n",
    "    return product\n",
    "\n",
    "num = input(\"Type the number: \")\n",
    "prodDigits(num)\n",
    "\n",
    "        "
   ]
  },
  {
   "cell_type": "markdown",
   "metadata": {},
   "source": [
    "Question-8: If all digits of a number n are multiplied by each other repeating with the product, the one digit number obtained at last is called the multiplicative digit root of n. The number of times digit need to be multiplied to reach one digit is called the multiplicative persistance of n.\n",
    "Example: 86->48->32->6 (MDR 6, MPersistance 3)\n",
    "         341->12->2 (MDR 2, MPersistance 2)\n",
    "Using the function prodDigits() of previous exercise write functions MDR() and MPersistance() that input a number and return its multiplicative digital root and multiplicative persistance respectively."
   ]
  },
  {
   "cell_type": "code",
   "execution_count": 20,
   "metadata": {},
   "outputs": [
    {
     "name": "stdout",
     "output_type": "stream",
     "text": [
      "Type the number: 873\n",
      "MDR of 873 is 6\n",
      "MPersistance of 873 is 4\n"
     ]
    }
   ],
   "source": [
    "def prodDigits(num):\n",
    "    product = 1;\n",
    "    for i in num:\n",
    "        i=int(i)\n",
    "        product*=i\n",
    "    return product\n",
    "\n",
    "def MDR(mdr):\n",
    "    s = prodDigits(mdr)\n",
    "    s = str(s)\n",
    "    return s if (len(s)==1) else MDR(s)\n",
    "\n",
    "count=[] \n",
    "def MPersistance(mdr):\n",
    "    count.append(1)\n",
    "    s = prodDigits(mdr)\n",
    "    s = str(s)\n",
    "    return sum(count) if (len(s)==1) else MPersistance(s)\n",
    "    \n",
    "  \n",
    "mdr =(input(\"Type the number: \"))\n",
    "print(\"MDR of {} is {}\".format(mdr, MDR(mdr)))\n",
    "print(\"MPersistance of {} is {}\".format(mdr, MPersistance(mdr)))"
   ]
  },
  {
   "cell_type": "markdown",
   "metadata": {},
   "source": [
    "Question-9: Write a function sumPdivisors() that finds the sum of proper divisors of a number. Proper\n",
    "divisors of a number are those numbers by which the number is divisible, except the\n",
    "number itself. For example proper divisors of 36 are 1, 2, 3, 4, 6, 9, 12,18"
   ]
  },
  {
   "cell_type": "code",
   "execution_count": 21,
   "metadata": {},
   "outputs": [
    {
     "name": "stdout",
     "output_type": "stream",
     "text": [
      "Type the number: 22\n",
      "Sum of proper divisors of 22 is 14\n"
     ]
    }
   ],
   "source": [
    "def sumPdivisors(num):\n",
    "    for i in range (1,num):\n",
    "        if (num%i==0):\n",
    "            divisors.append(i)\n",
    "    return sum(divisors)\n",
    "divisors = []\n",
    "n = int(input(\"Type the number: \"))\n",
    "print(\"Sum of proper divisors of {} is {}\".format(n, sumPdivisors(n)))"
   ]
  },
  {
   "cell_type": "markdown",
   "metadata": {},
   "source": [
    "Question-10: A number is called perfect if the sum of proper divisors of that number is equal to the\n",
    "number. For example 28 is perfect number, since 1+2+4+7+14=28. Write a program to\n",
    "print all the perfect numbers in a given range"
   ]
  },
  {
   "cell_type": "code",
   "execution_count": 22,
   "metadata": {},
   "outputs": [
    {
     "name": "stdout",
     "output_type": "stream",
     "text": [
      "Write a number: 32\n",
      "Perfect number below 32\n",
      "0\n",
      "6\n",
      "28\n"
     ]
    }
   ],
   "source": [
    "def sumPdivisors(num):\n",
    "    divisors = []                 #divisor list put inside to avoid appending of old values.\n",
    "    for i in range (1,num):\n",
    "        if (num%i==0):\n",
    "            divisors.append(i)\n",
    "    return sum(divisors)\n",
    "\n",
    "z = int(input(\"Write a number: \"))\n",
    "print(\"Perfect number below\", z)\n",
    "\n",
    "for x in range(z):\n",
    "    if x==sumPdivisors(x):\n",
    "        print(x)    "
   ]
  },
  {
   "cell_type": "markdown",
   "metadata": {},
   "source": [
    "Question-11: Two different numbers are called amicable numbers if the sum of the proper divisors of\n",
    "each is equal to the other number. For example 220 and 284 are amicable numbers.\n",
    "Sum of proper divisors of 220 = 1+2+4+5+10+11+20+22+44+55+110 = 284\n",
    "Sum of proper divisors of 284 = 1+2+4+71+142 = 220\n",
    "Write a function to print pairs of amicable numbers in a range"
   ]
  },
  {
   "cell_type": "code",
   "execution_count": 23,
   "metadata": {},
   "outputs": [
    {
     "name": "stdout",
     "output_type": "stream",
     "text": [
      "Write the range: 500\n",
      "220 284\n",
      "284 220\n"
     ]
    }
   ],
   "source": [
    "def sumPdivisors(num):\n",
    "    divisors = []                 #divisor list put inside to avoid appending of old values.\n",
    "    for i in range (1,num):\n",
    "        if (num%i==0):\n",
    "            divisors.append(i)\n",
    "    return sum(divisors)\n",
    "z =  int(input(\"Write the range: \"))\n",
    "for x in range(z) :\n",
    "    for y in range(z):\n",
    "        if (x==sumPdivisors(y) and y==sumPdivisors(x) and x!=y):\n",
    "            print(x,y)\n",
    "            "
   ]
  },
  {
   "cell_type": "markdown",
   "metadata": {},
   "source": [
    "Question-12: Write a program which can filter odd numbers in a list by using filter function\n"
   ]
  },
  {
   "cell_type": "code",
   "execution_count": 9,
   "metadata": {},
   "outputs": [
    {
     "name": "stdout",
     "output_type": "stream",
     "text": [
      "original list: [1, 2, 3, 4, 5, 6, 7, 8, 9, 10]\n",
      "\n",
      "odd list: [1, 3, 5, 7, 9]\n"
     ]
    }
   ],
   "source": [
    "lst=[1,2,3,4,5,6,7,8,9,10]\n",
    "odd_lst= list(filter(lambda x: x%2!=0, lst))\n",
    "print(\"original list:\",lst)\n",
    "print(\"\\nodd list:\",odd_lst)"
   ]
  },
  {
   "cell_type": "markdown",
   "metadata": {},
   "source": [
    "Question-13: Write a program which can map() to make a list whose elements are cube of elements in a given list"
   ]
  },
  {
   "cell_type": "code",
   "execution_count": 12,
   "metadata": {},
   "outputs": [
    {
     "name": "stdout",
     "output_type": "stream",
     "text": [
      "Original list: [1, 2, 3, 4, 5, 6, 7, 8, 9, 10]\n",
      "\n",
      "Cube List: [1, 8, 27, 64, 125, 216, 343, 512, 729, 1000]\n"
     ]
    }
   ],
   "source": [
    "lst= [1,2,3,4,5,6,7,8,9,10]\n",
    "cube=list(map(lambda x: x**3, lst))\n",
    "print(\"Original list:\", lst)\n",
    "print(\"\\nCube List:\", cube)"
   ]
  },
  {
   "cell_type": "markdown",
   "metadata": {},
   "source": [
    "Question-14: Write a program which can map() and filter() to make a list whose elements are cube of even number in a given list"
   ]
  },
  {
   "cell_type": "code",
   "execution_count": 13,
   "metadata": {},
   "outputs": [
    {
     "name": "stdout",
     "output_type": "stream",
     "text": [
      "Original list: [5, 6, 7, 8, 9, 101, 103, 105, 106, 200]\n",
      "\n",
      "Cube of even: [216, 512, 1191016, 8000000]\n"
     ]
    }
   ],
   "source": [
    "lst = [5,6,7,8,9,101,103,105,106,200]\n",
    "even_lst= list(filter(lambda x: x%2==0, lst))\n",
    "cube_even=list(map(lambda x: x**3, even_lst))\n",
    "print(\"Original list:\", lst)\n",
    "print(\"\\nCube of even:\", cube_even)"
   ]
  },
  {
   "cell_type": "markdown",
   "metadata": {},
   "source": [
    "***End of Assignment op1***"
   ]
  },
  {
   "cell_type": "code",
   "execution_count": null,
   "metadata": {},
   "outputs": [],
   "source": []
  }
 ],
 "metadata": {
  "kernelspec": {
   "display_name": "Python 3",
   "language": "python",
   "name": "python3"
  },
  "language_info": {
   "codemirror_mode": {
    "name": "ipython",
    "version": 3
   },
   "file_extension": ".py",
   "mimetype": "text/x-python",
   "name": "python",
   "nbconvert_exporter": "python",
   "pygments_lexer": "ipython3",
   "version": "3.7.3"
  }
 },
 "nbformat": 4,
 "nbformat_minor": 2
}
